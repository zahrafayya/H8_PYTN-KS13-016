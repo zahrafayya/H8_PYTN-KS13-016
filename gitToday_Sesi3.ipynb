{
 "cells": [
  {
   "cell_type": "code",
   "execution_count": 2,
   "id": "5edde637",
   "metadata": {},
   "outputs": [
    {
     "name": "stdout",
     "output_type": "stream",
     "text": [
      "Masukkan angka: 1 2 3 4 5 6\n",
      "[5, 10, 15, 20, 25, 30]\n"
     ]
    }
   ],
   "source": [
    "# Soal 1\n",
    "def func(arr):\n",
    "    new_arr = []\n",
    "    for x in range(len(arr)):\n",
    "        new_arr.append(arr[x] * 5)\n",
    "    return new_arr\n",
    "    \n",
    "input = [int(x) for x in input(\"Masukkan angka: \").split()]\n",
    "arr = func(input)\n",
    " \n",
    "print(arr)"
   ]
  },
  {
   "cell_type": "code",
   "execution_count": 1,
   "id": "33404d12",
   "metadata": {},
   "outputs": [
    {
     "name": "stdout",
     "output_type": "stream",
     "text": [
      "Masukkan banyaknya data: 5\n",
      "Data ke-1 = 1\n",
      "Data ke-2 = 2\n",
      "Data ke-3 = 3\n",
      "Data ke-4 = 4\n",
      "Data ke-5 = 5\n",
      "[1, 2, 3, 4, 5]\n",
      "Rata-ratanya adalah: 3.0\n",
      "Variannya adalah: 2.5\n",
      "Standar deviasinya adalah: 1.5811388300841898\n"
     ]
    }
   ],
   "source": [
    "# Soal 2\n",
    "def avg(arr):\n",
    "    summary = 0\n",
    "    for x in range(n):\n",
    "        summary += arr[x]\n",
    "    return summary/len(arr)\n",
    "\n",
    "def varians(arr):\n",
    "    average = avg(arr)\n",
    "    counter = 0\n",
    "    for x in range(n):\n",
    "        counter += (arr[x] - average)**2\n",
    "    return counter/(len(arr)-1)\n",
    "    \n",
    "def stdev(arr):\n",
    "    return varians(arr)**(1/2)\n",
    "    \n",
    "n = int(input(\"Masukkan banyaknya data: \"))\n",
    "\n",
    "arr = []\n",
    "for x in range(n):\n",
    "    temp = int(input(\"Data ke-\"+str(x+1)+\" = \"))\n",
    "    arr.append(temp)\n",
    "\n",
    "print(arr)\n",
    "               \n",
    "average = avg(arr)\n",
    "v = varians(arr)\n",
    "std = stdev(arr)\n",
    "\n",
    "print(\"Rata-ratanya adalah: \"+str(average))\n",
    "print(\"Variannya adalah: \"+str(v))\n",
    "print(\"Standar deviasinya adalah: \"+str(std))\n"
   ]
  },
  {
   "cell_type": "code",
   "execution_count": 1,
   "id": "3b4576d5",
   "metadata": {},
   "outputs": [
    {
     "name": "stdout",
     "output_type": "stream",
     "text": [
      "Masukkan angka: 1 5 2 5 13 14 51\n",
      "[1, 5, 2, 5, 13, 14, 51]\n",
      "Hasil sorting: [1, 2, 5, 5, 13, 14, 51]\n",
      "Nilai terbesar dari data adalah: 51\n",
      "Nilai terkecil dari data adalah: 1\n"
     ]
    }
   ],
   "source": [
    "# Soal 3\n",
    "def sort(arr):\n",
    "    for x in range(len(arr)):\n",
    "        min = x\n",
    "        for y in range(x+1, len(arr)):\n",
    "            if arr[min] > arr[y]:\n",
    "                min = y\n",
    "        temp = arr[x]\n",
    "        arr[x] = arr[min]\n",
    "        arr[min] = temp\n",
    "    return arr\n",
    "\n",
    "input = [int(x) for x in input(\"Masukkan angka: \").split()]\n",
    "print(input)\n",
    "arr = sort(input)\n",
    " \n",
    "print(\"Hasil sorting: \"+str(arr))\n",
    "print(\"Nilai terbesar dari data adalah: \"+str(arr[len(arr)-1]))\n",
    "print(\"Nilai terkecil dari data adalah: \"+str(arr[0]))"
   ]
  },
  {
   "cell_type": "code",
   "execution_count": 1,
   "id": "7ed6f2ba",
   "metadata": {},
   "outputs": [
    {
     "name": "stdout",
     "output_type": "stream",
     "text": [
      "Masukkan sebuah kalimat: ini adalah pintu\n",
      "utnip halada ini\n"
     ]
    }
   ],
   "source": [
    "# Soal 4\n",
    "def flip(arr):\n",
    "    new_arr = \"\"\n",
    "    for x in range(len(arr)):\n",
    "        new_arr += arr[len(arr) - x - 1]\n",
    "    return new_arr\n",
    "\n",
    "input = input(\"Masukkan sebuah kalimat: \")\n",
    "result = flip(input)\n",
    "print(str(result))"
   ]
  },
  {
   "cell_type": "code",
   "execution_count": 1,
   "id": "6070a47f",
   "metadata": {},
   "outputs": [
    {
     "name": "stdout",
     "output_type": "stream",
     "text": [
      "Masukkan sebuah kalimat: Ini Adalah Kalimat Jelek\n",
      "Banyaknya jumlah huruf kapital dalam kalimat adalah: 17\n",
      "Banyaknya jumlah huruf nonkapital dalam kalimat adalah: 4\n"
     ]
    }
   ],
   "source": [
    "# Soal 5\n",
    "def count(arr):\n",
    "    uppercase = 0\n",
    "    lowercase = 0\n",
    "    for x in range(len(arr)):\n",
    "        if arr[x].islower():\n",
    "            lowercase += 1\n",
    "        elif arr[x].isupper():\n",
    "            uppercase += 1\n",
    "    return (lowercase, uppercase)\n",
    "\n",
    "input = input(\"Masukkan sebuah kalimat: \")\n",
    "result = count(input)\n",
    "print(\"Banyaknya jumlah huruf kapital dalam kalimat adalah: \"+str(result[0]))\n",
    "print(\"Banyaknya jumlah huruf nonkapital dalam kalimat adalah: \"+str(result[1]))"
   ]
  },
  {
   "cell_type": "code",
   "execution_count": null,
   "id": "1310bc22",
   "metadata": {},
   "outputs": [],
   "source": []
  }
 ],
 "metadata": {
  "kernelspec": {
   "display_name": "Python 3 (ipykernel)",
   "language": "python",
   "name": "python3"
  },
  "language_info": {
   "codemirror_mode": {
    "name": "ipython",
    "version": 3
   },
   "file_extension": ".py",
   "mimetype": "text/x-python",
   "name": "python",
   "nbconvert_exporter": "python",
   "pygments_lexer": "ipython3",
   "version": "3.9.13"
  }
 },
 "nbformat": 4,
 "nbformat_minor": 5
}
