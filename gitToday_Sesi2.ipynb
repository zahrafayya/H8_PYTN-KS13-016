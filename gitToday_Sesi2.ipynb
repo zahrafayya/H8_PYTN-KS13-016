{
 "cells": [
  {
   "cell_type": "code",
   "execution_count": 4,
   "id": "ee2986bc",
   "metadata": {},
   "outputs": [
    {
     "name": "stdout",
     "output_type": "stream",
     "text": [
      "Masukkan angka: 3\n",
      "Angka 3 tergolong bilangan GANJIL!\n"
     ]
    }
   ],
   "source": [
    "# Soal 1\n",
    "x = int(input('Masukkan angka: '))\n",
    "if x % 2:\n",
    "    print('Angka '+str(x)+' tergolong bilangan GANJIL!')\n",
    "else:\n",
    "    print('Angka '+str(x)+' tergolong bilangan GENAP!')"
   ]
  },
  {
   "cell_type": "code",
   "execution_count": 8,
   "id": "5ce91aec",
   "metadata": {},
   "outputs": [
    {
     "name": "stdout",
     "output_type": "stream",
     "text": [
      "Masukkan Massa (kg): 25\n",
      "Masukkan Tinggi (cm): 100\n",
      "Massa 25 dan tinggi 1.0 m\n",
      "IMT = 25.0, BERAT BADAN BERLEBIH!\n"
     ]
    }
   ],
   "source": [
    "# Soal 2\n",
    "berat = int(input('Masukkan Massa (kg): '))\n",
    "tinggi = int(input('Masukkan Tinggi (cm): '))\n",
    "print('Massa '+str(berat)+' dan tinggi '+str(tinggi/100)+' m')\n",
    "\n",
    "IMT = berat/(tinggi/100)/(tinggi/100)\n",
    "status = ''\n",
    "if IMT > 39.9:\n",
    "    status = 'OBESITAS!'\n",
    "elif IMT >= 30.0:\n",
    "    status = 'BERAT BADAN SANGAT BERLEBIH!'\n",
    "elif IMT >= 25.0:\n",
    "    status = 'BERAT BADAN BERLEBIH!'\n",
    "elif IMT >= 18.5:\n",
    "    status = 'BERAT BADAN IDEAL!'\n",
    "else:\n",
    "    status = 'BERAT BADAN KURANG!'\n",
    "    \n",
    "    \n",
    "print('IMT = '+str(IMT)+', '+status)\n",
    "\n"
   ]
  },
  {
   "cell_type": "code",
   "execution_count": 17,
   "id": "740d6e53",
   "metadata": {},
   "outputs": [
    {
     "name": "stdout",
     "output_type": "stream",
     "text": [
      "Masukkan Jumlah Apel: 3\n",
      "Masukkan Jumlah Jeruk: 2\n",
      "Masukkan Jumlah Anggur: 5\n",
      "\n",
      "\n",
      "Detail Belanja\n",
      "Apel: 3 x 10000 = 30000\n",
      "Jeruk: 3 x 15000 = 30000\n",
      "Anggur: 3 x 20000 = 100000\n",
      "\n",
      "\n",
      "Total: 160000\n",
      "\n",
      "\n",
      "Masukkan jumlah uang: 175000\n",
      "Terima kasih\n",
      "\n",
      "\n",
      "Uang kembali anda: 15000\n"
     ]
    }
   ],
   "source": [
    "# Soal 3\n",
    "apel = int(input('Masukkan Jumlah Apel: '))\n",
    "jeruk = int(input('Masukkan Jumlah Jeruk: '))\n",
    "anggur = int(input('Masukkan Jumlah Anggur: '))\n",
    "\n",
    "tot_apel = apel*10000\n",
    "tot_jeruk = jeruk*15000\n",
    "tot_anggur = anggur*20000\n",
    "\n",
    "print('\\n')\n",
    "print('Detail Belanja')\n",
    "print('Apel: '+str(apel)+' x 10000 = '+str(apel*10000))\n",
    "print('Jeruk: '+str(apel)+' x 15000 = '+str(jeruk*15000))\n",
    "print('Anggur: '+str(apel)+' x 20000 = '+str(anggur*20000))\n",
    "print('\\n')\n",
    "\n",
    "total = tot_apel + tot_jeruk + tot_anggur \n",
    "print('Total: '+str(total))\n",
    "print('\\n')\n",
    "      \n",
    "uang = int(input('Masukkan jumlah uang: '))\n",
    "\n",
    "if uang-total < 0:\n",
    "      print('Transaksi anda dibatalkan')\n",
    "      print('uangnya kurang sebesar '+str(total-uang))\n",
    "else:\n",
    "      print('Terima kasih')\n",
    "      if uang-total > 0:\n",
    "          print('\\n')\n",
    "          print('Uang kembali anda: '+str(uang-total))\n",
    "      \n"
   ]
  },
  {
   "cell_type": "code",
   "execution_count": null,
   "id": "22f7dce5",
   "metadata": {},
   "outputs": [],
   "source": []
  }
 ],
 "metadata": {
  "kernelspec": {
   "display_name": "Python 3 (ipykernel)",
   "language": "python",
   "name": "python3"
  },
  "language_info": {
   "codemirror_mode": {
    "name": "ipython",
    "version": 3
   },
   "file_extension": ".py",
   "mimetype": "text/x-python",
   "name": "python",
   "nbconvert_exporter": "python",
   "pygments_lexer": "ipython3",
   "version": "3.9.13"
  }
 },
 "nbformat": 4,
 "nbformat_minor": 5
}
