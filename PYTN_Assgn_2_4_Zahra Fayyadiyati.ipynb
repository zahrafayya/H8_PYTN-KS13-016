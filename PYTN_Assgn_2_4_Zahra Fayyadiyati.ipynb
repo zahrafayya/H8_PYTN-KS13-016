{
 "cells": [
  {
   "cell_type": "markdown",
   "id": "072478ed",
   "metadata": {},
   "source": [
    "# Data Preprocessing\n",
    "\n",
    "Because there are some datas that do not contain proper numeric price (SALE PRICE), those data will be removed first."
   ]
  },
  {
   "cell_type": "code",
   "execution_count": 79,
   "id": "3080b27e",
   "metadata": {},
   "outputs": [
    {
     "data": {
      "text/html": [
       "<div>\n",
       "<style scoped>\n",
       "    .dataframe tbody tr th:only-of-type {\n",
       "        vertical-align: middle;\n",
       "    }\n",
       "\n",
       "    .dataframe tbody tr th {\n",
       "        vertical-align: top;\n",
       "    }\n",
       "\n",
       "    .dataframe thead th {\n",
       "        text-align: right;\n",
       "    }\n",
       "</style>\n",
       "<table border=\"1\" class=\"dataframe\">\n",
       "  <thead>\n",
       "    <tr style=\"text-align: right;\">\n",
       "      <th></th>\n",
       "      <th>Unnamed: 0</th>\n",
       "      <th>BOROUGH</th>\n",
       "      <th>NEIGHBORHOOD</th>\n",
       "      <th>BUILDING CLASS CATEGORY</th>\n",
       "      <th>TAX CLASS AT PRESENT</th>\n",
       "      <th>BLOCK</th>\n",
       "      <th>LOT</th>\n",
       "      <th>EASE-MENT</th>\n",
       "      <th>BUILDING CLASS AT PRESENT</th>\n",
       "      <th>ADDRESS</th>\n",
       "      <th>...</th>\n",
       "      <th>RESIDENTIAL UNITS</th>\n",
       "      <th>COMMERCIAL UNITS</th>\n",
       "      <th>TOTAL UNITS</th>\n",
       "      <th>LAND SQUARE FEET</th>\n",
       "      <th>GROSS SQUARE FEET</th>\n",
       "      <th>YEAR BUILT</th>\n",
       "      <th>TAX CLASS AT TIME OF SALE</th>\n",
       "      <th>BUILDING CLASS AT TIME OF SALE</th>\n",
       "      <th>SALE PRICE</th>\n",
       "      <th>SALE DATE</th>\n",
       "    </tr>\n",
       "  </thead>\n",
       "  <tbody>\n",
       "    <tr>\n",
       "      <th>0</th>\n",
       "      <td>4</td>\n",
       "      <td>1</td>\n",
       "      <td>ALPHABET CITY</td>\n",
       "      <td>07 RENTALS - WALKUP APARTMENTS</td>\n",
       "      <td>2A</td>\n",
       "      <td>392</td>\n",
       "      <td>6</td>\n",
       "      <td></td>\n",
       "      <td>C2</td>\n",
       "      <td>153 AVENUE B</td>\n",
       "      <td>...</td>\n",
       "      <td>5</td>\n",
       "      <td>0</td>\n",
       "      <td>5</td>\n",
       "      <td>1633</td>\n",
       "      <td>6440</td>\n",
       "      <td>1900</td>\n",
       "      <td>2</td>\n",
       "      <td>C2</td>\n",
       "      <td>6625000</td>\n",
       "      <td>2017-07-19 00:00:00</td>\n",
       "    </tr>\n",
       "    <tr>\n",
       "      <th>1</th>\n",
       "      <td>5</td>\n",
       "      <td>1</td>\n",
       "      <td>ALPHABET CITY</td>\n",
       "      <td>07 RENTALS - WALKUP APARTMENTS</td>\n",
       "      <td>2</td>\n",
       "      <td>399</td>\n",
       "      <td>26</td>\n",
       "      <td></td>\n",
       "      <td>C7</td>\n",
       "      <td>234 EAST 4TH   STREET</td>\n",
       "      <td>...</td>\n",
       "      <td>28</td>\n",
       "      <td>3</td>\n",
       "      <td>31</td>\n",
       "      <td>4616</td>\n",
       "      <td>18690</td>\n",
       "      <td>1900</td>\n",
       "      <td>2</td>\n",
       "      <td>C7</td>\n",
       "      <td>-</td>\n",
       "      <td>2016-12-14 00:00:00</td>\n",
       "    </tr>\n",
       "    <tr>\n",
       "      <th>2</th>\n",
       "      <td>6</td>\n",
       "      <td>1</td>\n",
       "      <td>ALPHABET CITY</td>\n",
       "      <td>07 RENTALS - WALKUP APARTMENTS</td>\n",
       "      <td>2</td>\n",
       "      <td>399</td>\n",
       "      <td>39</td>\n",
       "      <td></td>\n",
       "      <td>C7</td>\n",
       "      <td>197 EAST 3RD   STREET</td>\n",
       "      <td>...</td>\n",
       "      <td>16</td>\n",
       "      <td>1</td>\n",
       "      <td>17</td>\n",
       "      <td>2212</td>\n",
       "      <td>7803</td>\n",
       "      <td>1900</td>\n",
       "      <td>2</td>\n",
       "      <td>C7</td>\n",
       "      <td>-</td>\n",
       "      <td>2016-12-09 00:00:00</td>\n",
       "    </tr>\n",
       "    <tr>\n",
       "      <th>3</th>\n",
       "      <td>7</td>\n",
       "      <td>1</td>\n",
       "      <td>ALPHABET CITY</td>\n",
       "      <td>07 RENTALS - WALKUP APARTMENTS</td>\n",
       "      <td>2B</td>\n",
       "      <td>402</td>\n",
       "      <td>21</td>\n",
       "      <td></td>\n",
       "      <td>C4</td>\n",
       "      <td>154 EAST 7TH STREET</td>\n",
       "      <td>...</td>\n",
       "      <td>10</td>\n",
       "      <td>0</td>\n",
       "      <td>10</td>\n",
       "      <td>2272</td>\n",
       "      <td>6794</td>\n",
       "      <td>1913</td>\n",
       "      <td>2</td>\n",
       "      <td>C4</td>\n",
       "      <td>3936272</td>\n",
       "      <td>2016-09-23 00:00:00</td>\n",
       "    </tr>\n",
       "    <tr>\n",
       "      <th>4</th>\n",
       "      <td>8</td>\n",
       "      <td>1</td>\n",
       "      <td>ALPHABET CITY</td>\n",
       "      <td>07 RENTALS - WALKUP APARTMENTS</td>\n",
       "      <td>2A</td>\n",
       "      <td>404</td>\n",
       "      <td>55</td>\n",
       "      <td></td>\n",
       "      <td>C2</td>\n",
       "      <td>301 EAST 10TH   STREET</td>\n",
       "      <td>...</td>\n",
       "      <td>6</td>\n",
       "      <td>0</td>\n",
       "      <td>6</td>\n",
       "      <td>2369</td>\n",
       "      <td>4615</td>\n",
       "      <td>1900</td>\n",
       "      <td>2</td>\n",
       "      <td>C2</td>\n",
       "      <td>8000000</td>\n",
       "      <td>2016-11-17 00:00:00</td>\n",
       "    </tr>\n",
       "  </tbody>\n",
       "</table>\n",
       "<p>5 rows × 22 columns</p>\n",
       "</div>"
      ],
      "text/plain": [
       "   Unnamed: 0  BOROUGH   NEIGHBORHOOD  \\\n",
       "0           4        1  ALPHABET CITY   \n",
       "1           5        1  ALPHABET CITY   \n",
       "2           6        1  ALPHABET CITY   \n",
       "3           7        1  ALPHABET CITY   \n",
       "4           8        1  ALPHABET CITY   \n",
       "\n",
       "                       BUILDING CLASS CATEGORY TAX CLASS AT PRESENT  BLOCK  \\\n",
       "0  07 RENTALS - WALKUP APARTMENTS                                2A    392   \n",
       "1  07 RENTALS - WALKUP APARTMENTS                                 2    399   \n",
       "2  07 RENTALS - WALKUP APARTMENTS                                 2    399   \n",
       "3  07 RENTALS - WALKUP APARTMENTS                                2B    402   \n",
       "4  07 RENTALS - WALKUP APARTMENTS                                2A    404   \n",
       "\n",
       "   LOT EASE-MENT BUILDING CLASS AT PRESENT                 ADDRESS  ...  \\\n",
       "0    6                                  C2            153 AVENUE B  ...   \n",
       "1   26                                  C7   234 EAST 4TH   STREET  ...   \n",
       "2   39                                  C7   197 EAST 3RD   STREET  ...   \n",
       "3   21                                  C4     154 EAST 7TH STREET  ...   \n",
       "4   55                                  C2  301 EAST 10TH   STREET  ...   \n",
       "\n",
       "  RESIDENTIAL UNITS  COMMERCIAL UNITS  TOTAL UNITS  LAND SQUARE FEET  \\\n",
       "0                 5                 0            5              1633   \n",
       "1                28                 3           31              4616   \n",
       "2                16                 1           17              2212   \n",
       "3                10                 0           10              2272   \n",
       "4                 6                 0            6              2369   \n",
       "\n",
       "   GROSS SQUARE FEET YEAR BUILT TAX CLASS AT TIME OF SALE  \\\n",
       "0               6440       1900                         2   \n",
       "1              18690       1900                         2   \n",
       "2               7803       1900                         2   \n",
       "3               6794       1913                         2   \n",
       "4               4615       1900                         2   \n",
       "\n",
       "   BUILDING CLASS AT TIME OF SALE  SALE PRICE            SALE DATE  \n",
       "0                              C2     6625000  2017-07-19 00:00:00  \n",
       "1                              C7         -    2016-12-14 00:00:00  \n",
       "2                              C7         -    2016-12-09 00:00:00  \n",
       "3                              C4     3936272  2016-09-23 00:00:00  \n",
       "4                              C2     8000000  2016-11-17 00:00:00  \n",
       "\n",
       "[5 rows x 22 columns]"
      ]
     },
     "execution_count": 79,
     "metadata": {},
     "output_type": "execute_result"
    }
   ],
   "source": [
    "import pandas as pd\n",
    "import numpy as np\n",
    "import matplotlib.pyplot as plt\n",
    "\n",
    "df = pd.read_csv('nyc-rolling-sales.csv')\n",
    "\n",
    "df.head()"
   ]
  },
  {
   "cell_type": "code",
   "execution_count": 80,
   "id": "4d8323e9",
   "metadata": {},
   "outputs": [],
   "source": [
    "df.drop(df[df['SALE PRICE'] == ' -  '].index, inplace = True)"
   ]
  },
  {
   "cell_type": "code",
   "execution_count": 81,
   "id": "6143942f",
   "metadata": {},
   "outputs": [],
   "source": [
    "df['SALE PRICE'] = df['SALE PRICE'].astype(float)"
   ]
  },
  {
   "cell_type": "markdown",
   "id": "af1368f3",
   "metadata": {},
   "source": [
    "# 1. Descriptive Statistics\n",
    "\n",
    "## 1.1 Measure of Central Tendency\n",
    "\n",
    "Calculate the mean, median and mode (modus) of sale price of buildings with type \"07 RENTALS - WALKUP APARTMENTS\" in Manhattan (1) with building type of C2 at the time the building is sold!"
   ]
  },
  {
   "cell_type": "markdown",
   "id": "4c008e66",
   "metadata": {},
   "source": [
    "First off, we need to create a new data frame that qualify the requested description."
   ]
  },
  {
   "cell_type": "code",
   "execution_count": 59,
   "id": "b61dfbbf",
   "metadata": {},
   "outputs": [
    {
     "name": "stdout",
     "output_type": "stream",
     "text": [
      "       Unnamed: 0  BOROUGH               NEIGHBORHOOD  \\\n",
      "0               4        1              ALPHABET CITY   \n",
      "4               8        1              ALPHABET CITY   \n",
      "1456         1460        1                    CLINTON   \n",
      "3554         3558        1  GREENWICH VILLAGE-CENTRAL   \n",
      "4199         4203        1     GREENWICH VILLAGE-WEST   \n",
      "4888         4892        1             HARLEM-CENTRAL   \n",
      "4919         4923        1             HARLEM-CENTRAL   \n",
      "4920         4924        1             HARLEM-CENTRAL   \n",
      "4939         4943        1             HARLEM-CENTRAL   \n",
      "4954         4958        1             HARLEM-CENTRAL   \n",
      "5697         5701        1                HARLEM-EAST   \n",
      "5698         5702        1                HARLEM-EAST   \n",
      "6027         6031        1               HARLEM-UPPER   \n",
      "6029         6033        1               HARLEM-UPPER   \n",
      "6030         6034        1               HARLEM-UPPER   \n",
      "6132         6136        1                HARLEM-WEST   \n",
      "13463       13467        1    UPPER EAST SIDE (79-96)   \n",
      "16529       16533        1    UPPER WEST SIDE (79-96)   \n",
      "16544       16548        1    UPPER WEST SIDE (79-96)   \n",
      "16551       16555        1    UPPER WEST SIDE (79-96)   \n",
      "\n",
      "                           BUILDING CLASS CATEGORY TAX CLASS AT PRESENT  \\\n",
      "0      07 RENTALS - WALKUP APARTMENTS                                2A   \n",
      "4      07 RENTALS - WALKUP APARTMENTS                                2A   \n",
      "1456   07 RENTALS - WALKUP APARTMENTS                                2A   \n",
      "3554   07 RENTALS - WALKUP APARTMENTS                                2A   \n",
      "4199   07 RENTALS - WALKUP APARTMENTS                                2A   \n",
      "4888   07 RENTALS - WALKUP APARTMENTS                                2A   \n",
      "4919   07 RENTALS - WALKUP APARTMENTS                                2A   \n",
      "4920   07 RENTALS - WALKUP APARTMENTS                                2A   \n",
      "4939   07 RENTALS - WALKUP APARTMENTS                                2A   \n",
      "4954   07 RENTALS - WALKUP APARTMENTS                                2A   \n",
      "5697   07 RENTALS - WALKUP APARTMENTS                                2A   \n",
      "5698   07 RENTALS - WALKUP APARTMENTS                                2A   \n",
      "6027   07 RENTALS - WALKUP APARTMENTS                                2A   \n",
      "6029   07 RENTALS - WALKUP APARTMENTS                                2A   \n",
      "6030   07 RENTALS - WALKUP APARTMENTS                                2A   \n",
      "6132   07 RENTALS - WALKUP APARTMENTS                                2A   \n",
      "13463  07 RENTALS - WALKUP APARTMENTS                                2A   \n",
      "16529  07 RENTALS - WALKUP APARTMENTS                                2A   \n",
      "16544  07 RENTALS - WALKUP APARTMENTS                                2A   \n",
      "16551  07 RENTALS - WALKUP APARTMENTS                                2A   \n",
      "\n",
      "       BLOCK  LOT EASE-MENT BUILDING CLASS AT PRESENT                 ADDRESS  \\\n",
      "0        392    6                                  C2            153 AVENUE B   \n",
      "4        404   55                                  C2  301 EAST 10TH   STREET   \n",
      "1456    1060  158                                  C2      458 WEST 51 STREET   \n",
      "3554     572   15                                  C2      54 WEST 9TH STREET   \n",
      "4199     588   32                                  C2        38 BARROW STREET   \n",
      "4888    1749  107                                  C2     9 EAST 124TH STREET   \n",
      "4919    1915   25                                  C2     111 WEST 130 STREET   \n",
      "4920    1915  116                                  C2     131 WEST 130 STREET   \n",
      "4939    1942   10                                  C2   255 WEST 136TH STREET   \n",
      "4954    2025   20                                  C2     221 WEST 139 STREET   \n",
      "5697    1635   27                                  C2     163 EAST 107 STREET   \n",
      "5698    1635   45                                  C2     168 EAST 108 STREET   \n",
      "6027    2061   26                                  C2     413 WEST 146 STREET   \n",
      "6029    2063   17                                  C2      427 CONVENT AVENUE   \n",
      "6030    2063   26                                  C2   409 WEST 148TH STREET   \n",
      "6132    1967  173                                  C2        8 CONVENT AVENUE   \n",
      "13463   1521  163                                  C2  122 EAST 93RD   STREET   \n",
      "16529   1201   56                                  C2   54 WEST 88TH   STREET   \n",
      "16544   1219  121                                  C2    121 WEST 88TH STREET   \n",
      "16551   1249   18                                  C2  331 WEST 87TH   STREET   \n",
      "\n",
      "       ... RESIDENTIAL UNITS  COMMERCIAL UNITS  TOTAL UNITS  LAND SQUARE FEET  \\\n",
      "0      ...                 5                 0            5              1633   \n",
      "4      ...                 6                 0            6              2369   \n",
      "1456   ...                 5                 0            5              2092   \n",
      "3554   ...                 5                 0            5              1565   \n",
      "4199   ...                 5                 0            5              2171   \n",
      "4888   ...                 6                 0            6              2018   \n",
      "4919   ...                 6                 0            6              1998   \n",
      "4920   ...                 5                 0            5              1665   \n",
      "4939   ...                 6                 0            6              1599   \n",
      "4954   ...                 6                 0            6              1815   \n",
      "5697   ...                 5                 0            5              1716   \n",
      "5698   ...                 5                 0            5              1716   \n",
      "6027   ...                 6                 0            6              1649   \n",
      "6029   ...                 5                 0            5              1360   \n",
      "6030   ...                 5                 0            5              1998   \n",
      "6132   ...                 6                 0            6               799   \n",
      "13463  ...                 5                 0            5              1695   \n",
      "16529  ...                 5                 0            5              2013   \n",
      "16544  ...                 5                 0            5              2013   \n",
      "16551  ...                 6                 0            6              1510   \n",
      "\n",
      "       GROSS SQUARE FEET YEAR BUILT TAX CLASS AT TIME OF SALE  \\\n",
      "0                   6440       1900                         2   \n",
      "4                   4615       1900                         2   \n",
      "1456                4120       1920                         2   \n",
      "3554                4060       1900                         2   \n",
      "4199                3524       1900                         2   \n",
      "4888                2994       1910                         2   \n",
      "4919                3025       1939                         2   \n",
      "4920                3334       1910                         2   \n",
      "4939                2400       1910                         2   \n",
      "4954                4034       1920                         2   \n",
      "5697                4140       1910                         2   \n",
      "5698                4075       1910                         2   \n",
      "6027                2670       1920                         2   \n",
      "6029                2688       1926                         2   \n",
      "6030                4784       1899                         2   \n",
      "6132                1850       1926                         2   \n",
      "13463               2136       1910                         2   \n",
      "16529               5782       1900                         2   \n",
      "16544               5015       1910                         2   \n",
      "16551               4109       1900                         2   \n",
      "\n",
      "       BUILDING CLASS AT TIME OF SALE  SALE PRICE            SALE DATE  \n",
      "0                                  C2   6625000.0  2017-07-19 00:00:00  \n",
      "4                                  C2   8000000.0  2016-11-17 00:00:00  \n",
      "1456                               C2   7000000.0  2017-07-18 00:00:00  \n",
      "3554                               C2  10250000.0  2017-06-28 00:00:00  \n",
      "4199                               C2    313000.0  2017-05-23 00:00:00  \n",
      "4888                               C2   2150000.0  2016-11-22 00:00:00  \n",
      "4919                               C2   1525000.0  2017-03-31 00:00:00  \n",
      "4920                               C2   2000000.0  2017-05-25 00:00:00  \n",
      "4939                               C2   1300000.0  2017-02-21 00:00:00  \n",
      "4954                               C2   1625000.0  2016-11-22 00:00:00  \n",
      "5697                               C2   2550000.0  2017-07-07 00:00:00  \n",
      "5698                               C2   1300000.0  2016-12-08 00:00:00  \n",
      "6027                               C2   2395000.0  2017-01-19 00:00:00  \n",
      "6029                               C2   2420000.0  2017-02-22 00:00:00  \n",
      "6030                               C2   2000000.0  2017-02-17 00:00:00  \n",
      "6132                               C2   1500000.0  2016-11-15 00:00:00  \n",
      "13463                              C2   4450000.0  2017-08-15 00:00:00  \n",
      "16529                              C2   5950000.0  2017-03-23 00:00:00  \n",
      "16544                              C2   6500000.0  2017-07-24 00:00:00  \n",
      "16551                              C2   3788000.0  2017-04-06 00:00:00  \n",
      "\n",
      "[20 rows x 22 columns]\n"
     ]
    }
   ],
   "source": [
    "df_asked = df[(df['BOROUGH'] == 1) & (df['BUILDING CLASS CATEGORY'] == \"07 RENTALS - WALKUP APARTMENTS             \") \n",
    "              & (df['BUILDING CLASS AT TIME OF SALE'] == \"C2\")]\n",
    "\n",
    "print(df_asked)"
   ]
  },
  {
   "cell_type": "markdown",
   "id": "5804c757",
   "metadata": {},
   "source": [
    "### 1.1.1 Mean"
   ]
  },
  {
   "cell_type": "code",
   "execution_count": 61,
   "id": "42a07e20",
   "metadata": {},
   "outputs": [
    {
     "name": "stdout",
     "output_type": "stream",
     "text": [
      "3682050.0\n"
     ]
    }
   ],
   "source": [
    "mean = df_asked['SALE PRICE'].mean()\n",
    "print(mean)"
   ]
  },
  {
   "cell_type": "markdown",
   "id": "67e4a170",
   "metadata": {},
   "source": [
    "### 1.1.2 Median"
   ]
  },
  {
   "cell_type": "code",
   "execution_count": 62,
   "id": "90372468",
   "metadata": {},
   "outputs": [
    {
     "name": "stdout",
     "output_type": "stream",
     "text": [
      "2407500.0\n"
     ]
    }
   ],
   "source": [
    "median = df_asked['SALE PRICE'].median()\n",
    "print(median)"
   ]
  },
  {
   "cell_type": "markdown",
   "id": "9a15f10c",
   "metadata": {},
   "source": [
    "### 1.1.3 Mode (Modus)"
   ]
  },
  {
   "cell_type": "code",
   "execution_count": 64,
   "id": "923bdc70",
   "metadata": {},
   "outputs": [
    {
     "name": "stdout",
     "output_type": "stream",
     "text": [
      "0    1300000.0\n",
      "1    2000000.0\n",
      "Name: SALE PRICE, dtype: float64\n"
     ]
    }
   ],
   "source": [
    "mode = df_asked['SALE PRICE'].mode()\n",
    "print(mode)"
   ]
  },
  {
   "cell_type": "markdown",
   "id": "1df157bd",
   "metadata": {},
   "source": [
    "There are two modes on the dataset."
   ]
  },
  {
   "cell_type": "markdown",
   "id": "c9196c9b",
   "metadata": {},
   "source": [
    "From the result of mean, median, and mode, we can see that difference between the mode, median and mean is not too far. Thus, the data looks pretty cohesive. Yet, before we can conclude anything, we need to check the measure of spread first to be able to fully confirm whether the average number can represent the population."
   ]
  },
  {
   "cell_type": "markdown",
   "id": "14c2a95d",
   "metadata": {},
   "source": [
    "## 1.2 Measure of Spread\n",
    "\n",
    "Calculate the range, variance and standard deviation (std) of sale price of buildings with type \"07 RENTALS - WALKUP APARTMENTS\" in Manhattan (1) with building type of C2 at the time the building is sold!"
   ]
  },
  {
   "cell_type": "markdown",
   "id": "2b680fef",
   "metadata": {},
   "source": [
    "### 1.2.1 Range"
   ]
  },
  {
   "cell_type": "code",
   "execution_count": 76,
   "id": "4f8234bb",
   "metadata": {},
   "outputs": [
    {
     "name": "stdout",
     "output_type": "stream",
     "text": [
      "9937000.0\n"
     ]
    }
   ],
   "source": [
    "range_ = np.ptp(df_asked['SALE PRICE'])\n",
    "print(range_)"
   ]
  },
  {
   "cell_type": "markdown",
   "id": "8aff5c11",
   "metadata": {},
   "source": [
    "Difference between the maximum value and the minimum value in the data set is 9937000. This difference is pretty big."
   ]
  },
  {
   "cell_type": "markdown",
   "id": "211f0147",
   "metadata": {},
   "source": [
    "### 1.2.2 Variance"
   ]
  },
  {
   "cell_type": "code",
   "execution_count": 74,
   "id": "3e591ddd",
   "metadata": {},
   "outputs": [
    {
     "name": "stdout",
     "output_type": "stream",
     "text": [
      "7579940471052.632\n"
     ]
    }
   ],
   "source": [
    "variance = np.var(df_asked['SALE PRICE'], ddof=1)\n",
    "print(variance)"
   ]
  },
  {
   "cell_type": "markdown",
   "id": "db08daa7",
   "metadata": {},
   "source": [
    "### 1.2.3 Standard Deviation"
   ]
  },
  {
   "cell_type": "code",
   "execution_count": 77,
   "id": "568b60bc",
   "metadata": {},
   "outputs": [
    {
     "name": "stdout",
     "output_type": "stream",
     "text": [
      "2753169.168622341\n"
     ]
    }
   ],
   "source": [
    "std = np.std(df_asked['SALE PRICE'], ddof=1)\n",
    "print(std)"
   ]
  },
  {
   "cell_type": "markdown",
   "id": "e2bd2221",
   "metadata": {},
   "source": [
    "# 2. Inferential Statistics\n",
    "\n",
    "## 2.1 Probability Distribution\n",
    "\n",
    "We need to look whether the data in column SALE PRICE of df_asked is normally distributed or not using Shapiro-Wilk test."
   ]
  },
  {
   "cell_type": "code",
   "execution_count": 89,
   "id": "6fb97ee0",
   "metadata": {},
   "outputs": [
    {
     "name": "stdout",
     "output_type": "stream",
     "text": [
      "stat=0.870, p=0.012\n",
      "Probably Not Gaussian\n"
     ]
    }
   ],
   "source": [
    "from scipy.stats import shapiro\n",
    "\n",
    "stat, p = shapiro(df_asked['SALE PRICE'])\n",
    "print('stat=%.3f, p=%.3f' % (stat, p))\n",
    "if p > 0.05:\n",
    "    print('Probably Gaussian')\n",
    "else:\n",
    "    print('Probably Not Gaussian')"
   ]
  },
  {
   "cell_type": "markdown",
   "id": "975d5d65",
   "metadata": {},
   "source": [
    "## 2.2 Confidence Interval\n",
    "\n",
    "To be able to have 95% confidence interval, we will use z-score of 1.96."
   ]
  },
  {
   "cell_type": "code",
   "execution_count": 85,
   "id": "b3d55ef7",
   "metadata": {},
   "outputs": [
    {
     "name": "stdout",
     "output_type": "stream",
     "text": [
      "20\n"
     ]
    }
   ],
   "source": [
    "z_score = 1.96\n",
    "n = len(df_asked.index)"
   ]
  },
  {
   "cell_type": "markdown",
   "id": "81b742a4",
   "metadata": {},
   "source": [
    "### Calculating Standard Error"
   ]
  },
  {
   "cell_type": "code",
   "execution_count": 86,
   "id": "ded38f8e",
   "metadata": {},
   "outputs": [],
   "source": [
    "se = std / np.sqrt(n)"
   ]
  },
  {
   "cell_type": "markdown",
   "id": "841574a3",
   "metadata": {},
   "source": [
    "### Calculating Confidence Interval"
   ]
  },
  {
   "cell_type": "code",
   "execution_count": 88,
   "id": "7c981164",
   "metadata": {},
   "outputs": [
    {
     "data": {
      "text/plain": [
       "(2475420.4107391573, 4888679.589260843)"
      ]
     },
     "execution_count": 88,
     "metadata": {},
     "output_type": "execute_result"
    }
   ],
   "source": [
    "lcb = mean - z_score * se # lower limit of CI\n",
    "ucb = mean + z_score * se\n",
    "\n",
    "lcb, ucb"
   ]
  },
  {
   "cell_type": "markdown",
   "id": "e51669d2",
   "metadata": {},
   "source": [
    "The confidence interval is 2475420.41 and 4888679.59. This means, if we took another sample, there is 95% chance that the data wil fall between 2475420.41 and 4888679.59."
   ]
  },
  {
   "cell_type": "markdown",
   "id": "b1afbf47",
   "metadata": {},
   "source": [
    "## 2.3 Hypothesis Testing\n",
    "\n",
    "Hypothesis that will be tested:\n",
    "\n",
    "Does average price in Alphabet City is higher than average price in Clinton?\n",
    "\n",
    "Null hypothesis: mu1 = mu2\n",
    "Alternative hypothesis: mu1 != mu2"
   ]
  },
  {
   "cell_type": "code",
   "execution_count": 96,
   "id": "37b772d3",
   "metadata": {
    "scrolled": true
   },
   "outputs": [],
   "source": [
    "import statsmodels.api as sm\n",
    "\n",
    "a_city = df[df[\"NEIGHBORHOOD\"] == \"ALPHABET CITY\"]\n",
    "clinton = df[df[\"NEIGHBORHOOD\"] == \"CLINTON\"]"
   ]
  },
  {
   "cell_type": "code",
   "execution_count": 94,
   "id": "da6a3722",
   "metadata": {},
   "outputs": [
    {
     "data": {
      "text/plain": [
       "(148, 2600240.9256756757, 6710061.340155619)"
      ]
     },
     "execution_count": 94,
     "metadata": {},
     "output_type": "execute_result"
    }
   ],
   "source": [
    "n1 = len(a_city)\n",
    "mu1 = a_city[\"SALE PRICE\"].mean()\n",
    "sd1 = a_city[\"SALE PRICE\"].std()\n",
    "\n",
    "(n1, mu1, sd1)"
   ]
  },
  {
   "cell_type": "code",
   "execution_count": 95,
   "id": "3d4b2a90",
   "metadata": {},
   "outputs": [
    {
     "data": {
      "text/plain": [
       "(296, 1876482.1385135136, 4626385.81681132)"
      ]
     },
     "execution_count": 95,
     "metadata": {},
     "output_type": "execute_result"
    }
   ],
   "source": [
    "n2 = len(clinton)\n",
    "mu2 = clinton[\"SALE PRICE\"].mean()\n",
    "sd2 = clinton[\"SALE PRICE\"].std()\n",
    "\n",
    "(n2, mu2, sd2)"
   ]
  },
  {
   "cell_type": "code",
   "execution_count": 97,
   "id": "5fd92dd3",
   "metadata": {},
   "outputs": [
    {
     "data": {
      "text/plain": [
       "(1.3290641488841186, 0.18382680692299525)"
      ]
     },
     "execution_count": 97,
     "metadata": {},
     "output_type": "execute_result"
    }
   ],
   "source": [
    "sm.stats.ztest(a_city[\"SALE PRICE\"], clinton[\"SALE PRICE\"], alternative='two-sided')"
   ]
  },
  {
   "cell_type": "markdown",
   "id": "bc7e6c61",
   "metadata": {},
   "source": [
    "Because p-value is 0.18 and is higher than alpha, which is 0.05, the null hypothesis is *not rejected*. A further test need to be conducted to verify the null hypothesis."
   ]
  }
 ],
 "metadata": {
  "kernelspec": {
   "display_name": "Python 3 (ipykernel)",
   "language": "python",
   "name": "python3"
  },
  "language_info": {
   "codemirror_mode": {
    "name": "ipython",
    "version": 3
   },
   "file_extension": ".py",
   "mimetype": "text/x-python",
   "name": "python",
   "nbconvert_exporter": "python",
   "pygments_lexer": "ipython3",
   "version": "3.9.13"
  }
 },
 "nbformat": 4,
 "nbformat_minor": 5
}
