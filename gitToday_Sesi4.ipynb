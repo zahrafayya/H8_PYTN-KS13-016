{
 "cells": [
  {
   "cell_type": "code",
   "execution_count": 3,
   "id": "c498bc91",
   "metadata": {},
   "outputs": [
    {
     "name": "stdout",
     "output_type": "stream",
     "text": [
      "Mulai: 1\n",
      "Selesai: 28\n",
      "Array 1 dimensi: \n",
      "[ 1  2  3  4  5  6  7  8  9 10 11 12 13 14 15 16 17 18 19 20 21 22 23 24\n",
      " 25 26 27]\n",
      "Array 2 dimensi: \n",
      "[[ 1  2  3  4  5  6  7  8  9]\n",
      " [10 11 12 13 14 15 16 17 18]\n",
      " [19 20 21 22 23 24 25 26 27]]\n",
      "Array 3 dimensi: \n",
      "[[[ 1  2  3]\n",
      "  [ 4  5  6]\n",
      "  [ 7  8  9]]\n",
      "\n",
      " [[10 11 12]\n",
      "  [13 14 15]\n",
      "  [16 17 18]]\n",
      "\n",
      " [[19 20 21]\n",
      "  [22 23 24]\n",
      "  [25 26 27]]]\n"
     ]
    }
   ],
   "source": [
    "# Maaf Pak, yang sebelumnya salah upload, malah mengupload yang sesi 3\n",
    "# Soal 1\n",
    "import numpy as np\n",
    "\n",
    "mulai = int(input(\"Mulai: \"))\n",
    "selesai = int(input(\"Selesai: \"))\n",
    "\n",
    "arr = np.arange(mulai, selesai)\n",
    "print(\"Array 1 dimensi: \")\n",
    "print(arr)\n",
    "\n",
    "arr2 = arr.reshape(3, 9)\n",
    "print(\"Array 2 dimensi: \")\n",
    "print(arr2)\n",
    "\n",
    "arr3 = arr.reshape(3, 3, 3)\n",
    "print(\"Array 3 dimensi: \")\n",
    "print(arr3)"
   ]
  },
  {
   "cell_type": "code",
   "execution_count": 29,
   "id": "11b6b999",
   "metadata": {},
   "outputs": [
    {
     "name": "stdout",
     "output_type": "stream",
     "text": [
      "Banyak data (harus kelipatan 3): 18\n",
      "Mulai: 1\n",
      "Selesai: 50\n",
      "Array 1 dimensi:\n",
      "[41 40  9  6 45 43 31 23 45 49 33 49 20  3  6 46  5 46]\n",
      "Array 2 dimensi:\n",
      "[[41 40  9  6 45 43]\n",
      " [31 23 45 49 33 49]\n",
      " [20  3  6 46  5 46]]\n",
      "Flip array:\n",
      "[[43 45  6  9 40 41]\n",
      " [49 33 49 45 23 31]\n",
      " [46  5 46  6  3 20]]\n"
     ]
    }
   ],
   "source": [
    "# Soal 2\n",
    "import numpy as np\n",
    "\n",
    "n = int(input(\"Banyak data (harus kelipatan 3): \"))\n",
    "mulai = int(input(\"Mulai: \"))\n",
    "selesai = int(input(\"Selesai: \"))\n",
    "\n",
    "arr = np.random.randint(mulai,selesai,(n))\n",
    "print(\"Array 1 dimensi:\")\n",
    "print(arr)\n",
    "    \n",
    "arr2 = arr.reshape(3, int(n/3))\n",
    "print(\"Array 2 dimensi:\")\n",
    "print(arr2)\n",
    "\n",
    "arr3 = arr2[:, ::-1]\n",
    "print(\"Flip array:\")\n",
    "print(arr3)"
   ]
  },
  {
   "cell_type": "code",
   "execution_count": 25,
   "id": "f11e0b90",
   "metadata": {},
   "outputs": [
    {
     "name": "stdout",
     "output_type": "stream",
     "text": [
      "[[4. 4. 4. 4. 4. 4. 4. 4. 4. 4.]\n",
      " [4. 0. 0. 0. 0. 0. 0. 0. 0. 4.]\n",
      " [4. 0. 0. 0. 0. 0. 0. 0. 0. 4.]\n",
      " [4. 0. 0. 0. 0. 0. 0. 0. 0. 4.]\n",
      " [4. 0. 0. 0. 0. 0. 0. 0. 0. 4.]\n",
      " [4. 0. 0. 0. 0. 0. 0. 0. 0. 4.]\n",
      " [4. 0. 0. 0. 0. 0. 0. 0. 0. 4.]\n",
      " [4. 0. 0. 0. 0. 0. 0. 0. 0. 4.]\n",
      " [4. 0. 0. 0. 0. 0. 0. 0. 0. 4.]\n",
      " [4. 4. 4. 4. 4. 4. 4. 4. 4. 4.]]\n"
     ]
    }
   ],
   "source": [
    "# Soal 3\n",
    "import numpy as np\n",
    "\n",
    "arr = np.zeros((10,10))\n",
    "arr += 4\n",
    "arr[1:-1,1:-1] = 0\n",
    "\n",
    "print(arr)"
   ]
  },
  {
   "cell_type": "code",
   "execution_count": null,
   "id": "eee39851",
   "metadata": {},
   "outputs": [],
   "source": []
  }
 ],
 "metadata": {
  "kernelspec": {
   "display_name": "Python 3 (ipykernel)",
   "language": "python",
   "name": "python3"
  },
  "language_info": {
   "codemirror_mode": {
    "name": "ipython",
    "version": 3
   },
   "file_extension": ".py",
   "mimetype": "text/x-python",
   "name": "python",
   "nbconvert_exporter": "python",
   "pygments_lexer": "ipython3",
   "version": "3.9.13"
  }
 },
 "nbformat": 4,
 "nbformat_minor": 5
}
